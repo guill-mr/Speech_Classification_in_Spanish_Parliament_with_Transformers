{
 "cells": [
  {
   "cell_type": "markdown",
   "metadata": {},
   "source": [
    "# AUTHORS\n",
    "\n",
    "- **Mathieu Breier**  \n",
    "  *BSE DSDM 2023-2024*  \n",
    "  Email: [mathieu.breier@bse.eu](mailto:mathieu.breier@bse.eu)\n",
    "\n",
    "- **Guillem Mirabent**  \n",
    "  *BSE DSDM 2023-2024*  \n",
    "  Email: [guillem.mirabent@bse.eu](mailto:guillem.mirabent@bse.eu)"
   ]
  },
  {
   "cell_type": "markdown",
   "metadata": {},
   "source": [
    "# INDEX"
   ]
  },
  {
   "cell_type": "markdown",
   "metadata": {},
   "source": [
    "# LOAD & IMPORTS"
   ]
  },
  {
   "cell_type": "code",
   "execution_count": null,
   "metadata": {},
   "outputs": [],
   "source": [
    "import pandas as pd \n",
    "import numpy as np\n",
    "import matplotlib.pyplot as plt\n",
    "from sklearn.feature_extraction.text import TfidfVectorizer\n",
    "from sklearn.model_selection import train_test_split\n",
    "from sklearn.metrics import classification_report, confusion_matrix\n",
    "from sklearn.pipeline import Pipeline\n",
    "from sklearn.metrics import ConfusionMatrixDisplay, RocCurveDisplay, roc_auc_score, roc_curve, auc, confusion_matrix\n",
    "\n",
    "import klib as kl \n",
    "import plotly.express as px\n",
    "\n",
    "import seaborn as sns\n",
    "\n",
    "import nltk\n",
    "nltk.download('stopwords')\n",
    "from nltk.corpus import stopwords"
   ]
  },
  {
   "cell_type": "code",
   "execution_count": null,
   "metadata": {},
   "outputs": [],
   "source": [
    "data = pd.read_csv('../Spanish_Parliament_Speeches.csv')\n",
    "data = kl.clean_column_names(data)\n",
    "display(data)"
   ]
  },
  {
   "cell_type": "code",
   "execution_count": null,
   "metadata": {},
   "outputs": [],
   "source": [
    "data.loc[data['speaker_party'] == 'PSOE', 'speaker_party'] = 0\n",
    "data.loc[data['speaker_party'] == 'PP', 'speaker_party'] = 1"
   ]
  }
 ],
 "metadata": {
  "language_info": {
   "name": "python"
  }
 },
 "nbformat": 4,
 "nbformat_minor": 2
}
