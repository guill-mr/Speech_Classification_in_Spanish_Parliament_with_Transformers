{
 "cells": [
  {
   "cell_type": "markdown",
   "metadata": {},
   "source": [
    "# AUTHORS\n",
    "\n",
    "- **Mathieu Breier**  \n",
    "  *BSE DSDM 2023-2024*  \n",
    "  Email: [mathieu.breier@bse.eu](mailto:mathieu.breier@bse.eu)\n",
    "\n",
    "- **Guillem Mirabent**  \n",
    "  *BSE DSDM 2023-2024*  \n",
    "  Email: [guillem.mirabent@bse.eu](mailto:guillem.mirabent@bse.eu)"
   ]
  },
  {
   "cell_type": "code",
   "execution_count": null,
   "metadata": {},
   "outputs": [],
   "source": []
  }
 ],
 "metadata": {
  "language_info": {
   "name": "python"
  }
 },
 "nbformat": 4,
 "nbformat_minor": 2
}
